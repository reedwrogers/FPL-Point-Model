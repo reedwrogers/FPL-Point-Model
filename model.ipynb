{
 "cells": [
  {
   "cell_type": "code",
   "execution_count": null,
   "metadata": {},
   "outputs": [],
   "source": [
    "# FPL Point Prediction Model\n",
    "\n",
    "# Order of events:\n",
    "\n",
    "# 1: Data\n",
    "# - what data do we need to build a model? Is it individual match data? Historical? How does this data look? Where can we get it such that we can have a live connection?\n",
    "\n",
    "# 2: General idea of the model\n",
    "# - somewhat discussed in the data, but what will our model do? Will it predict player points? Will it predict player price to find gems? \n",
    "\n",
    "# 3: Predicting GW38 for 2024\n",
    "# - after building a connection to the data and a model that predicts player points for a gameweek, implement this to predict gameweek 38 of the 2024 season\n",
    "\n",
    "# 4: Picking a team\n",
    "# - with a model that predicts points, add in the stipulations/ rules of FPL such that we can return an optimal team/ suggested transfers depending on a week"
   ]
  }
 ],
 "metadata": {
  "language_info": {
   "name": "python"
  },
  "orig_nbformat": 4
 },
 "nbformat": 4,
 "nbformat_minor": 2
}
