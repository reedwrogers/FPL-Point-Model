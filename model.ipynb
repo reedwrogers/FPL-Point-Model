{
 "cells": [
  {
   "cell_type": "code",
   "execution_count": null,
   "metadata": {},
   "outputs": [],
   "source": [
    "# FPL Point Prediction Model\n",
    "\n",
    "# Order of events:\n",
    "\n",
    "# 1: Data\n",
    "# - what data do we need to build a model? Is it individual match data? Historical? How does this data look? Where can we get it such that we can have a live connection?\n",
    "\n",
    "# 2: General idea of the model\n",
    "# - somewhat discussed in the data, but what will our model do? Will it predict player points? Will it predict player price to find gems? \n",
    "\n",
    "# 3: Predicting GW38 for 2024\n",
    "# - after building a connection to the data and a model that predicts player points for a gameweek, implement this to predict gameweek 38 of the 2024 season\n",
    "\n",
    "# 4: Picking a team\n",
    "# - with a model that predicts points, add in the stipulations/ rules of FPL such that we can return an optimal team/ suggested transfers depending on a week"
   ]
  }
 ],
 "metadata": {
  "kernelspec": {
   "display_name": "base",
   "language": "python",
   "name": "python3"
  },
  "language_info": {
   "name": "python",
   "version": "3.11.5 | packaged by Anaconda, Inc. | (main, Sep 11 2023, 13:26:23) [MSC v.1916 64 bit (AMD64)]"
  },
  "orig_nbformat": 4,
  "vscode": {
   "interpreter": {
    "hash": "1b30f7a7eb703ca28cacee6ec948cc633c111373f841ced60a7b8e477f4c2a2d"
   }
  }
 },
 "nbformat": 4,
 "nbformat_minor": 2
}
